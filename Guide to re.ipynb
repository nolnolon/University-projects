{
 "cells": [
  {
   "cell_type": "markdown",
   "id": "192efe84-701f-433a-bb3b-38314c40cc51",
   "metadata": {},
   "source": [
    "# A guide to regular expressions\n",
    "\n",
    "### BSc AI & CS Mentor Program 2023 - 2024. \n",
    ">>>>>\n",
    "### In this guide, we get acquainted with Python regular expressions level-by-level, proceeding from the most basic cases to more and more expressive patterns."
   ]
  },
  {
   "cell_type": "markdown",
   "id": "328a91ec-9c05-4ad6-a5f1-85bb51d4c37d",
   "metadata": {},
   "source": [
    ">>>>>>>>>>>\n",
    "### Part I: The raw syntax of specifying regular expressions"
   ]
  },
  {
   "cell_type": "markdown",
   "id": "edd8b8ff-405b-4499-9ff2-5c30ecbca4e1",
   "metadata": {},
   "source": [
    "#### **A regular expression.**\n",
    "A regular expression is a pattern of characters used for lookup in text. It is defined within two forward slashes / /, with possible modifiers applied outside of them.  Their expressiveness is achieved through the use of 11 special characters.\n",
    "> [] . ^ $ * + ? {} () \\ | "
   ]
  },
  {
   "cell_type": "markdown",
   "id": "75988358-f647-44b2-8be0-4a9bfe84f320",
   "metadata": {},
   "source": [
    "### **Character classes**"
   ]
  },
  {
   "cell_type": "markdown",
   "id": "afa46e62-a666-48fe-91b4-0c5470c05cc7",
   "metadata": {},
   "source": [
    "**Character sets allow for the most basic form of matches. They are defined using squared brackets [ ].** \n",
    "\n",
    "1. [abc]       matching any character in the set: a, b, or c. \n",
    "\n",
    "2. [^abc]      negates a character set and matches anything BUT the characters in the set. Is somewhat similar to the logical operator NOT. \n",
    "> !! Note: ^ will be known to denote the beginning of a line. Within the squared brackets[] , however, it can only mean NOT. \n",
    "\n",
    "3. [a-m]       matching a range of characters, including a and m. "
   ]
  },
  {
   "cell_type": "markdown",
   "id": "f83e7a96-9114-4ddb-b10e-317da8dced09",
   "metadata": {},
   "source": [
    "**Element types: 3 types & their negations.**\n",
    "Let us consider the following input sentence: **I was born in 1993 and had 2 dogs growing up.**\n",
    "\n",
    "1. /\\w/        denotes a word (alphabetic) character. \n",
    ">**Matches:** ['I', 'w', 'a', 's', 'b', 'o', 'r', 'n', 'i', 'n', 'a', 'n', 'd' .....and so on ].   \n",
    "\n",
    "2. /\\W/        denotes NOT a word (alphabetic) character.\n",
    ">**Matches:** [' ', ' ', ' ', ' ', 1,9,9,3, ' ', ' ', ' ', 2, ' ', ' ', ' ']. \n",
    "\n",
    "3. /\\d/        denotes a digit. \n",
    ">**Matches:** [1, 9, 9, 3, 2]. \n",
    "\n",
    "4. /\\D/        denotes NOT a digit.\n",
    ">**Matches:** ['I', ' ', 'w', 'a', 's', ' ', 'b', 'o', 'r', 'n', ' ', 'i', 'n', ' ', 'a', 'n', 'd' .....and so on ].   \n",
    "\n",
    "5. /\\s/        denotes a whitespace. \n",
    ">**Matches:** [' ', ' ', ' ', ' ', ' ', ' ', ' ', ' ', ' ', ' ']\n",
    "\n",
    "6. /\\S/        denotes NOT a whitespace.\n",
    ">**Matches:** ['I', 'w', 'a', 's', 'b', 'o', 'r', 'n', 'i', 'n', 1, 9, 9, 3, 'a', 'n', 'd' .....and so on ].   "
   ]
  },
  {
   "cell_type": "markdown",
   "id": "7927f9ca-62b8-4d65-835b-c974068a013e",
   "metadata": {},
   "source": [
    "### **Operators**"
   ]
  },
  {
   "cell_type": "markdown",
   "id": "c81c7367-fc6e-4656-94fe-6c7901cfec48",
   "metadata": {},
   "source": [
    "**Quantifiers are a type of operators. There are 4 of them:**\n",
    "\n",
    "1. ' + '      matches strings where the preceding+ character occurs >= 1 time.\n",
    ">Example: /e+/ matches 'e' in '**e**ntropy', 'f**ee**ling', 'Y**eeee**ah', etc.\n",
    ">> !! Note: /e/ would also match 'f**ee**ling', but with 2 separate '**e**' matches instead of one '**ee**' that /e+/ would produce. \n",
    "\n",
    "2. ' ? '      matches the strings where the preceding? character either DOES NOT occur or occurs, but only ONCE. \n",
    "\n",
    ">Example: /o?/ matches 's**o**les' and 'sea', but not 'solo' nor 'saloon'.  \n",
    "\n",
    "3. ' * '      matches both the strings where the preceding* character DOES NOT and DOES occur. If it does occur, all its occurrences are matched.  \n",
    ">Example: /o*/ matches 's**o**les, 'sea', 's**o**l**o**' and 'sal**oo**n'. \n",
    "\n",
    "4. ' {n} '     matches strings where the preceding{n} character occurs exactly 'n' times. Think of the set notation, we are looking for {3} occurences specifically. \n",
    "\n",
    ">Example: o{3} matches 'Colorado', but not 'boohoo'. \n",
    ">> !! Note: you can, however, specify a range of character like: {4, 5}. The lookup will then match words containing 4 - 5 specified characters. "
   ]
  },
  {
   "cell_type": "markdown",
   "id": "cddf85fa-5942-40e3-abe5-d5a4a1384956",
   "metadata": {},
   "source": [
    "**Anchors are operators that influence morphological boundaries.**\n",
    "\n",
    "1. ' \\b '        denotes a word boundary. Respectively, \\B stands for NOT a word boundary. \n",
    "\n",
    ">Example: \\bexam\\b matches 'exam' but not 'examinor' or 'pre-examination'. \n",
    "\n",
    "2. ' ^ '         denotes the beginning of a line.\n",
    "\n",
    ">Example: ^Exam matches 'Exam' only if it is found at the beginning of a line.\n",
    "\n",
    "3. ' \\\\$ '         denotes the end of a line.\n",
    "\n",
    ">Example: similarly, exam$ matches 'exam' only if it is found at the end of a line."
   ]
  },
  {
   "cell_type": "markdown",
   "id": "968cb1eb-8a25-471e-b44c-010187f0646f",
   "metadata": {},
   "source": [
    "**Groups** \n",
    "\n",
    "1. (    )    The so-called capturing group: 1) any operator outside the brackets is applied to the full expression inside them, 2) the expression inside is 'captured' = returned when matched. It helps to think of it as being similar to the basic math operator ().\n",
    ">Example: (abc)+ would have matches in 'abc', 'abcisalphabet', 'abcabcabcisalphabet', etc. ---> Refer back to Quantifiers 2.\n",
    "\n",
    "2. (?:  )    The so-called \"Non-capturing group\". Finds the regular expression following ?:, but DOES NOT capture (return) it. \n",
    "> Example:(?:Emergency)(warning) would have 2 matches in 'Emergergency warning', but would only return 'warning'."
   ]
  },
  {
   "cell_type": "markdown",
   "id": "9689e58b-83c1-4d1f-96ac-efd827a2c169",
   "metadata": {},
   "source": [
    "**Special characters. A functionally diverse group of exceptional vocabulary.** \n",
    "\n",
    "1.  .       Matches any single (!) character except newline characters ( ) \n",
    ">Example: /r.n/ matches include 'ran', 'run', 'r@n', but does not match'a\\nc', 'ra' or 'ru', which are not followed by 'n'.  \n",
    "\n",
    "2. \\        Cancels out a special character, treating it as a literal character. The characters that would be otherwise be used as operators are now considered regular alphanumeric/symbolic characters in the expression. \n",
    ">Example: \\. matches '.' instead of any character, as per point 1. "
   ]
  },
  {
   "cell_type": "markdown",
   "id": "114eabac-f7f9-4c16-9bf4-dff5e3a390e6",
   "metadata": {},
   "source": [
    "**Logical operators. Essentially, there is one: the logical OR.**\n",
    "\n",
    "1. |        The logical OR. \n",
    ">Example: Albert|albert matches both 'Albert' and 'albert'.\n",
    "\n",
    "2. The semantics of NOT are respresented by the class operator ^ \n",
    "\n",
    "3. The semantics of AND are implicit in the expressibility of other operators and hierarchal grouping. "
   ]
  },
  {
   "cell_type": "markdown",
   "id": "9210bff1-4ccc-48e6-b473-707b350e48e5",
   "metadata": {},
   "source": [
    "**Getting more abstract...**\n",
    "1. ?=       The so-called \"Positive lookahead\". Matches a pattern but only if it is followed by another pattern. \n",
    "\n",
    "> Example: \\b\\w+(?=\\.com\\b) would match 'google' in 'google.com'"
   ]
  },
  {
   "cell_type": "markdown",
   "id": "d3de0c5c-9c6c-448d-be53-c68e7cb763f1",
   "metadata": {},
   "source": [
    "**Flags, or Modifiers, per their name, modify the general properties of the regular expression pattern. They are placed after the regular expression. Their order does not matter.**\n",
    "\n",
    "1. g     is responsible for global matching. With it, we retrieve all occurences of the expression. Without it, only the first one shall be matched. \n",
    "\n",
    "2. i:    case-insensitive modifier: matches both lowercase and uppercase expressions.\n",
    "\n",
    "3. m:    multiline matching: matches instances encountered in all lines. \n"
   ]
  },
  {
   "cell_type": "markdown",
   "id": "cad46a84-a3ac-4deb-b071-4a6c262476ef",
   "metadata": {},
   "source": [
    ">Examples: \n",
    "> - /Prof/gi matches all occurrences of '*prof*.', 'Prof.', 'Professor' throughout the text. /Prof/i would match either one of those that occurs first. /Prof/g would match all instances of 'Prof'. \n",
    "> - /([A-Z])\\w+/ matches any upperchase letter between A and Z, followed by any word-like token. "
   ]
  },
  {
   "cell_type": "markdown",
   "id": "d6e72549-db36-4d60-91af-63f0106e9772",
   "metadata": {},
   "source": [
    "#### Complex regular expressions. \n",
    "> Example: /\\b\\w+@(?:student\\.vu\\.nl)\\b/. This example may be challenging to understand, so let us unpack it symbol by symbol: \n",
    ">> / \\b - boundary   \\w+ - >1 word character  @ - treated literally as @ (?: ) - non-capturing group. Next, let us look inside the non-capturing group: student, \\ - special character cancelling out other special characters, . treated literally, \\. - same effect, nl. "
   ]
  },
  {
   "cell_type": "markdown",
   "id": "e74aca8a-efd5-4dac-9c0e-1b044ca87a91",
   "metadata": {
    "tags": []
   },
   "source": [
    ">>>>>>>>>>>\n",
    "### The next part is on re class methods. TBC. "
   ]
  },
  {
   "cell_type": "markdown",
   "id": "47ab385e-2e3f-4ac5-8ca9-6ffa4d20f64e",
   "metadata": {},
   "source": [
    "##### Created by Ilona Masiuk, Vrije Universiteit Amsterdam, 30th March 2024. "
   ]
  },
  {
   "cell_type": "markdown",
   "id": "fa8665df-0521-4822-a6ab-6ee286da38af",
   "metadata": {},
   "source": [
    "Sources: \n",
    "    https://regexr.com/"
   ]
  }
 ],
 "metadata": {
  "kernelspec": {
   "display_name": "Python 3 (ipykernel)",
   "language": "python",
   "name": "python3"
  },
  "language_info": {
   "codemirror_mode": {
    "name": "ipython",
    "version": 3
   },
   "file_extension": ".py",
   "mimetype": "text/x-python",
   "name": "python",
   "nbconvert_exporter": "python",
   "pygments_lexer": "ipython3",
   "version": "3.9.17"
  }
 },
 "nbformat": 4,
 "nbformat_minor": 5
}
